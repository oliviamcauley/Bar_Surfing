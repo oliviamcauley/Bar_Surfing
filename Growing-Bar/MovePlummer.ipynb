{
 "cells": [
  {
   "cell_type": "code",
   "execution_count": null,
   "metadata": {},
   "outputs": [],
   "source": [
    "radius = L5\n",
    "phi = np.pi/2\n",
    "v_circ = vcirc(mwp,R=radius)+0\n",
    "print('This is v_circ:',v_circ)\n",
    "Oinplane = Orbit([radius,0,v_circ,0,0,phi],ro=ro,vo=vo) #[R,vR,vT,z,vz,phi]"
   ]
  },
  {
   "cell_type": "code",
   "execution_count": null,
   "metadata": {},
   "outputs": [],
   "source": [
    "##### Set up Plummer Potential #####\n",
    "b_param = 1.07*((10**-3)/ro) # 1.07pc converted to natural units\n",
    "\n",
    "print ('This is b_param in natural units:',b_param)\n",
    "\n",
    "##### Set the amplitude of the cluster potential #####\n",
    "\n",
    "amp = 10**-7 # Order of magnitude from mass fraction\n",
    "\n",
    "########################################################\n",
    "\n",
    "##### Set up the cluster potential which is made from the Plummer Potential and the Plummer DF #####\n",
    "\n",
    "pp = PlummerPotential(amp = amp, b = b_param, ro=ro, vo=vo)\n",
    "\n",
    "moving_pp = MovingObjectPotential(Oinplane,pot=pp,ro=ro,vo=vo) #This shifts the potential to be at L4/5"
   ]
  }
 ],
 "metadata": {
  "kernelspec": {
   "display_name": "Python 3",
   "language": "python",
   "name": "python3"
  },
  "language_info": {
   "codemirror_mode": {
    "name": "ipython",
    "version": 3
   },
   "file_extension": ".py",
   "mimetype": "text/x-python",
   "name": "python",
   "nbconvert_exporter": "python",
   "pygments_lexer": "ipython3",
   "version": "3.8.2"
  }
 },
 "nbformat": 4,
 "nbformat_minor": 4
}
