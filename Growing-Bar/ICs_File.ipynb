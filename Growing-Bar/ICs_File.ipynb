{
 "cells": [
  {
   "cell_type": "code",
   "execution_count": null,
   "metadata": {},
   "outputs": [],
   "source": [
    "#####################################\n",
    "#### USE THIS FROM OTHER PROCESSED ORBITS ####\n",
    "#####################################\n",
    "\n",
    "def orbitload_itr(nbatch,nsample):\n",
    "    Norbits = nsample*nbatch\n",
    "    inname = './1000N_ppDF_MW14p_stklAA_orbits_cyl_0.npy'\n",
    "#     if iteration == 0:\n",
    "#         simname = 'NoBar'\n",
    "#         iteration = 11\n",
    "#         inname = './orbits/Masters/NoBar/'+str(Norbits)+'N_qiDF_'+dpType+'p_'+AAType+'_orbits_cyl_'+str(simname)+str(iteration-1)+'.npy'\n",
    "#     else:\n",
    "#         inname = './orbits/Masters/'+str(Norbits)+'N_qiDF_'+dpType+'p_'+AAType+'_orbits_cyl_'+str(simname)+'_'+str(iteration-1)+'.npy'\n",
    "    ICfile = np.load(inname)\n",
    "    ICs = np.transpose(np.array([ICfile[0,:,-1],ICfile[3,:,-1],ICfile[4,:,-1],ICfile[2,:,-1],ICfile[5,:,-1],ICfile[1,:,-1]]))\n",
    "    o = Orbit(ICs)\n",
    "    return o"
   ]
  }
 ],
 "metadata": {
  "kernelspec": {
   "display_name": "Python 3",
   "language": "python",
   "name": "python3"
  },
  "language_info": {
   "codemirror_mode": {
    "name": "ipython",
    "version": 3
   },
   "file_extension": ".py",
   "mimetype": "text/x-python",
   "name": "python",
   "nbconvert_exporter": "python",
   "pygments_lexer": "ipython3",
   "version": "3.8.2"
  }
 },
 "nbformat": 4,
 "nbformat_minor": 4
}
