{
 "cells": [
  {
   "cell_type": "markdown",
   "metadata": {},
   "source": [
    "# Imports and Scaling Factors"
   ]
  },
  {
   "cell_type": "code",
   "execution_count": 1,
   "metadata": {},
   "outputs": [
    {
     "name": "stdout",
     "output_type": "stream",
     "text": [
      "\u001b[91mA new version of galpy (1.10.0) is available, please upgrade using pip/conda/... to get the latest features and bug fixes!\u001b[0m\n"
     ]
    }
   ],
   "source": [
    "'''\n",
    "Author: Olivia McAuley\n",
    "August 7, 2023\n",
    "'''\n",
    "\n",
    "%run ./McAuley_Imports.ipynb\n",
    "%run ./McAuley_ScaleFactors.ipynb"
   ]
  },
  {
   "cell_type": "markdown",
   "metadata": {},
   "source": [
    "# Underlying Milky Way Potential"
   ]
  },
  {
   "cell_type": "code",
   "execution_count": 2,
   "metadata": {},
   "outputs": [],
   "source": [
    "mwp = MWPotential2014"
   ]
  },
  {
   "cell_type": "markdown",
   "metadata": {},
   "source": [
    "# Set Up Growing Bar Potential"
   ]
  },
  {
   "cell_type": "code",
   "execution_count": 3,
   "metadata": {},
   "outputs": [
    {
     "name": "stdout",
     "output_type": "stream",
     "text": [
      "/Users/oliviamcauley/miniconda3/envs/physics/lib/python3.8/site-packages/galpy/util/conversion.py:832: UserWarning: Returning output(s) in internal units even though use_physical=True, because ro and/or vo not set\n",
      "  warnings.warn(\"Returning output(s) in internal units even though use_physical=True, because ro and/or vo not set\")\n",
      "\n",
      "this is v_c at CRo in natural units 1.01225452780562\n",
      "This is omegabo in natural units 0.253063631951405\n",
      "This is tsteady from bar potential: 24.82847993103223\n"
     ]
    }
   ],
   "source": [
    "%run ./McAuley_DehnenBar.ipynb"
   ]
  },
  {
   "cell_type": "markdown",
   "metadata": {},
   "source": [
    "# ICs Files\n",
    "### Make sure inname is the correct initial conditions file"
   ]
  },
  {
   "cell_type": "code",
   "execution_count": 4,
   "metadata": {},
   "outputs": [],
   "source": [
    "%run ./ICs_File.ipynb"
   ]
  },
  {
   "cell_type": "markdown",
   "metadata": {},
   "source": [
    "# Time Calculator"
   ]
  },
  {
   "cell_type": "code",
   "execution_count": 5,
   "metadata": {},
   "outputs": [
    {
     "name": "stdout",
     "output_type": "stream",
     "text": [
      "A single bar rotation:  24277.094552720897 Myr\n",
      "It will rotate  0.20595545274752067  in  5.0 Gyr\n",
      "     That is 0.041191090549504136 rotations per Gyr\n",
      "\n",
      "\n",
      "After exactly  11  rotations the final time will be:\n",
      "      7510.61517913725 natural units\n",
      "      267.0480400799299 Gyr\n",
      "\n",
      "\n",
      "Want max timestep to be 8.69 Myr\n",
      "For dt=5.0 Myr there are approximately 53409.61 steps over full simulation,\n",
      "   where one bar orbit every 4855.418910544179 time-steps.\n",
      "Setting to 225 steps per one bar orbit, every step is 107.89819801209286 Myr\n",
      "   and 11 rotations (0 to equelibrate, 1 to grow bar, 10 Tbar to evolve) takes 2475 time-steps\n",
      "   For 5 iterations with 2Tbar each, there are 450 steps per iteration.\n",
      "\n",
      "\n",
      "tfnat = 7510.61517913725 # Final integration time after 11 rotations in natural units\n",
      "tfGyr = 267.0480400799299 Gyr # Final integration time after 11 rotations in Gyr\n",
      "nttot = 2250         # Number of integration steps by final iteration\n",
      "tfnatitr = 1365.5663962067729 # Integration time in natural units for this iteration\n",
      "tfPhysitr = 48.55418910544179 Gyr # Integration time in Gyr for this iteration\n",
      "ntitr    = 450    # Number of integration steps this iteration(2Tbar long)\n",
      "dtMyr = 107.898 Myr # Length of each step in Myr\n",
      "dtMyr = 107.89819801209286 Myr # Length of each step in Myr\n",
      "One bar orbit every 225.0 time-steps\n"
     ]
    }
   ],
   "source": [
    "%run ./Timescale_Calculator.ipynb"
   ]
  },
  {
   "cell_type": "markdown",
   "metadata": {},
   "source": [
    "# Find L4/5 Value"
   ]
  },
  {
   "cell_type": "code",
   "execution_count": 6,
   "metadata": {},
   "outputs": [
    {
     "name": "stdout",
     "output_type": "stream",
     "text": [
      "/Users/oliviamcauley/miniconda3/envs/physics/lib/python3.8/site-packages/galpy/potential/PowerSphericalPotentialwCutoff.py:96: RuntimeWarning: invalid value encountered in true_divide\n",
      "  out= 2.*numpy.pi*self.rc**(3.-self.alpha)*(1/self.rc*special.gamma(1.-self.alpha/2.)*special.gammainc(1.-self.alpha/2.,(r/self.rc)**2.)-special.gamma(1.5-self.alpha/2.)*special.gammainc(1.5-self.alpha/2.,(r/self.rc)**2.)/r)\n",
      "\n",
      "/Users/oliviamcauley/miniconda3/envs/physics/lib/python3.8/site-packages/galpy/potential/TwoPowerSphericalPotential.py:1374: RuntimeWarning: divide by zero encountered in true_divide\n",
      "  out= -special.xlogy(1./r,1.+r/self.a) # stable as r -> infty\n",
      "\n"
     ]
    },
    {
     "data": {
      "image/png": "[encoded data removed]",
      "text/plain": [
       "<Figure size 432x288 with 1 Axes>"
      ]
     },
     "metadata": {
      "needs_background": "light"
     },
     "output_type": "display_data"
    },
    {
     "name": "stdout",
     "output_type": "stream",
     "text": [
      "This is ymax at t=tsteady: 0.5306122448979591\n",
      "This is L4/5 in natural units: 0.5306122448979591\n",
      "This is L4/5 in physical units: 4.244897959183673 kpc\n"
     ]
    }
   ],
   "source": [
    "%run ./FindL5.ipynb"
   ]
  },
  {
   "cell_type": "markdown",
   "metadata": {},
   "source": [
    "# Create Readme File"
   ]
  },
  {
   "cell_type": "code",
   "execution_count": 7,
   "metadata": {},
   "outputs": [],
   "source": [
    "%run ./Create_ReadMe.ipynb"
   ]
  },
  {
   "cell_type": "markdown",
   "metadata": {},
   "source": [
    "# Moving Plummer Potential with Single Particle Orbit at L4/5 (Oinplane)"
   ]
  },
  {
   "cell_type": "code",
   "execution_count": 8,
   "metadata": {},
   "outputs": [
    {
     "name": "stdout",
     "output_type": "stream",
     "text": [
      "/Users/oliviamcauley/miniconda3/envs/physics/lib/python3.8/site-packages/galpy/util/conversion.py:832: UserWarning: Returning output(s) in internal units even though use_physical=True, because ro and/or vo not set\n",
      "  warnings.warn(\"Returning output(s) in internal units even though use_physical=True, because ro and/or vo not set\")\n",
      "\n",
      "This is v_circ: 1.0177299712794623\n",
      "This is b_param in natural units: 0.00013375\n"
     ]
    }
   ],
   "source": [
    "%run ./MovePlummer.ipynb"
   ]
  },
  {
   "cell_type": "code",
   "execution_count": 9,
   "metadata": {},
   "outputs": [],
   "source": [
    "pp.turn_physical_off()\n",
    "moving_pp.turn_physical_off()"
   ]
  },
  {
   "cell_type": "markdown",
   "metadata": {},
   "source": [
    "# Integrate Single Particle Orbit\n",
    "### Check line 15 to make sure integration is over correct potentials (mwp OR mwp+bp)\n",
    "Must create these Path Directory in this folder: orbits/PhD/Oinplane_MB/ AND orbits/PhD/Oinplane_M/"
   ]
  },
  {
   "cell_type": "code",
   "execution_count": 14,
   "metadata": {},
   "outputs": [
    {
     "name": "stdout",
     "output_type": "stream",
     "text": [
      "This is shape of ts: (38694,)\n",
      "\u001b[1;34mStart time is:  2024-10-03 15:50:18.126510\n",
      "\n",
      "\n",
      "   Saving orbits using cylindrical coordinates\n",
      "   Shape of final orbits array is (6, 38694)\n",
      "   There are 6 coordinates [R,phi,z,vR,vphi,vz]\n",
      "   There is 1 orbit\n",
      "   There are 38694 timestep outputs for each\n",
      "\n",
      "\n",
      "   Saving orbits using cartesian coordinates\n",
      "   Shape of final orbits array is (6, 38694)\n",
      "   There are 6 coordinates [x,y,z,vx,vy,vz]\n",
      "   There is 1 orbits\n",
      "   There are 38694 timestep outputs for each\n",
      "\n",
      "\n",
      "   TOTAL total time lapsed =  0:00:00.022405\n"
     ]
    }
   ],
   "source": [
    "%run ./IntegrateSingleParticle.ipynb"
   ]
  },
  {
   "cell_type": "markdown",
   "metadata": {},
   "source": [
    "# Set up cluster orbit from ICs that consist of processed orbits"
   ]
  },
  {
   "cell_type": "code",
   "execution_count": 11,
   "metadata": {},
   "outputs": [],
   "source": [
    "%run ./ShiftClusterOrbit.ipynb"
   ]
  },
  {
   "cell_type": "markdown",
   "metadata": {},
   "source": [
    "### Plot the Position of the Initial Condition, the initial position of the Shifted Cluster at t=0, and the initial velocity of the Shifted Cluster at t=0\n",
    "Note: The Position of the Initial Condition and the initial position of the Shifted Cluster should be the same!"
   ]
  },
  {
   "cell_type": "code",
   "execution_count": 12,
   "metadata": {},
   "outputs": [
    {
     "name": "stdout",
     "output_type": "stream",
     "text": [
      "<ipython-input-12-3389aeb138cf>:17: UserWarning: This figure was using constrained_layout==True, but that is incompatible with subplots_adjust and or tight_layout: setting constrained_layout==False. \n",
      "  plt.tight_layout()\n",
      "\n"
     ]
    },
    {
     "data": {
      "image/png": "[encoded data removed]",
      "text/plain": [
       "<Figure size 720x216 with 3 Axes>"
      ]
     },
     "metadata": {
      "needs_background": "light"
     },
     "output_type": "display_data"
    }
   ],
   "source": [
    "fig, ax = plt.subplots(ncols=3, nrows=1, figsize=(10, 3), constrained_layout=True)\n",
    "ax[0].scatter(o.x(),o.y())\n",
    "ax[0].set_title('Initial Positional Condition of Cluster')\n",
    "ax[0].set_xlabel('X')\n",
    "ax[0].set_ylabel('Y')\n",
    "\n",
    "ax[1].scatter(shifted_cluster.x(ts[0]),shifted_cluster.y(ts[0]))\n",
    "ax[1].set_title('Initial Position of Shifted Cluster')\n",
    "ax[1].set_xlabel('X')\n",
    "ax[1].set_ylabel('Y')\n",
    "\n",
    "ax[2].scatter(shifted_cluster.vx(ts[0]),shifted_cluster.vy(ts[0]))\n",
    "ax[2].set_title('Initial Velocity of Shifted Cluster')\n",
    "ax[2].set_xlabel('$v_{x}$')\n",
    "ax[2].set_ylabel('$v_{y}$')\n",
    "\n",
    "plt.tight_layout()\n",
    "\n",
    "plt.show()"
   ]
  },
  {
   "cell_type": "markdown",
   "metadata": {},
   "source": [
    "# Integrate Cluster Orbit\n",
    "Create the following Path Directories in this folder: orbits/PhD/__\n",
    "where you enter 'M, MP, MB, or MBP' in the '__'"
   ]
  },
  {
   "cell_type": "code",
   "execution_count": 15,
   "metadata": {},
   "outputs": [
    {
     "name": "stderr",
     "output_type": "stream",
     "text": [
      "\r",
      "  0%|          | 0/1000 [00:00<?, ?it/s]"
     ]
    },
    {
     "name": "stdout",
     "output_type": "stream",
     "text": [
      "\u001b[1;34mStart time is:  2024-10-03 15:50:40.581237\n"
     ]
    },
    {
     "name": "stderr",
     "output_type": "stream",
     "text": [
      "                                                   \r"
     ]
    },
    {
     "name": "stdout",
     "output_type": "stream",
     "text": [
      "\n",
      "\n",
      "   Saving orbits using cylindrical coordinates\n",
      "   Shape of final orbits array is (6, 1000, 450)\n",
      "   There are 6 coordinates [R,phi,z,vR,vphi,vz]\n",
      "   There are 1000 orbits\n",
      "   There are 450 timestep outputs for each\n",
      "   Time lapsed to save orbits =  0:00:00.282605\n",
      "\n",
      "\n",
      "   Saving orbits using cartesian coordinates\n",
      "   Shape of final orbits array is (6, 1000, 450)\n",
      "   There are 6 coordinates [x,y,z,vx,vy,vz]\n",
      "   There are 1000 orbits\n",
      "   There are 450 timestep outputs for each\n",
      "   Time lapsed to save orbits =  0:00:00.510418\n",
      "\n",
      "\n",
      "   Making README file\n",
      "\n",
      "\n",
      "   Total time lapsed =  0:00:00.008034\n",
      "   TOTAL total time lapsed =  0:00:00.518726\n"
     ]
    }
   ],
   "source": [
    "%run ./IntegrateClusterOrbit.ipynb"
   ]
  },
  {
   "cell_type": "code",
   "execution_count": null,
   "metadata": {},
   "outputs": [],
   "source": []
  }
 ],
 "metadata": {
  "kernelspec": {
   "display_name": "Python 3",
   "language": "python",
   "name": "python3"
  },
  "language_info": {
   "codemirror_mode": {
    "name": "ipython",
    "version": 3
   },
   "file_extension": ".py",
   "mimetype": "text/x-python",
   "name": "python",
   "nbconvert_exporter": "python",
   "pygments_lexer": "ipython3",
   "version": "3.8.2"
  }
 },
 "nbformat": 4,
 "nbformat_minor": 4
}
