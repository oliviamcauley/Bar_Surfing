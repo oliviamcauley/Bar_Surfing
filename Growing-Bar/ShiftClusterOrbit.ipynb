{
 "cells": [
  {
   "cell_type": "code",
   "execution_count": null,
   "metadata": {},
   "outputs": [],
   "source": [
    "##### Set up orbit from previous processed orbits #####\n",
    "o = orbitload_itr(nbatch,nsample)\n",
    "\n",
    "x0,v0= [0.,L5,0.], [-v_circ,0.,0.] #v_circ is defined where we define Oinplane in the cells above\n",
    "# x0,v0= [0.,L5,0.], [v_circ,0.,0.] #v_circ is defined where we define Oinplane in the cells above\n",
    "\n",
    "###################################################################\n",
    "\n",
    "##### Shift position of the cluster and convert to cylindrical coordinates #####\n",
    "shifted_pos = coords.rect_to_cyl(o.x()+x0[0],o.y()+x0[1],o.z()+x0[2])\n",
    "\n",
    "# shifted_pos output: gives (R, phi, z) shifted by position we set\n",
    "######################################################################\n",
    "\n",
    "##### Shift velocity of the cluster and convert to cylindrical coordinates #####\n",
    "\n",
    "shifted_vel = coords.rect_to_cyl_vec(o.vx()+v0[0],o.vy()+v0[1],o.vz()+v0[2],*shifted_pos,cyl=True) #True: position is already in cyl coord\n",
    "\n",
    "# print('This is shifted_vel[1] in cyclindrical coords [vR, v_phi, vz]:',shifted_vel[1])\n",
    "########################################################################\n",
    "\n",
    "##### Set up cluster's orbits #####\n",
    "\n",
    "shifted_cluster = Orbit(np.array([shifted_pos[0],shifted_vel[0],shifted_vel[1],shifted_pos[2],shifted_vel[2],shifted_pos[1]]).T)\n"
   ]
  }
 ],
 "metadata": {
  "kernelspec": {
   "display_name": "Python 3",
   "language": "python",
   "name": "python3"
  },
  "language_info": {
   "codemirror_mode": {
    "name": "ipython",
    "version": 3
   },
   "file_extension": ".py",
   "mimetype": "text/x-python",
   "name": "python",
   "nbconvert_exporter": "python",
   "pygments_lexer": "ipython3",
   "version": "3.8.2"
  }
 },
 "nbformat": 4,
 "nbformat_minor": 4
}
