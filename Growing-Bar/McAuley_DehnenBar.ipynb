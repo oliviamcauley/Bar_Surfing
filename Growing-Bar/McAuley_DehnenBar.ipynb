{
 "cells": [
  {
   "cell_type": "code",
   "execution_count": null,
   "metadata": {},
   "outputs": [],
   "source": [
    "'''\n",
    "Set up the growing bar potential\n",
    "The Dehnen bar potential is initialized to start bar formation at t=0 \n",
    "and to have completely formed the bar after one bar period. \n",
    "We can integrate back to the time before bar-formation:\n",
    "'''\n",
    "\n",
    "##### Set up the bar potential parameters #####\n",
    "rbo = 0.5 # rbo = 4 kpc # Bar half length is in natural units (set to 5 kpc - Li+2016 at 6.7 kpc for same vo)\n",
    "\n",
    "\n",
    "CRo = 0.5 # CRo = 4 kpc\n",
    "v_c = vcirc(mwp, R = CRo)# v_c in natural units and it's the v_c at corotation radius\n",
    "print ('this is v_c at CRo in natural units',v_c)\n",
    "# print ('this is v_c at CRo in physical units',v_c*vo,'km/s')\n",
    "\n",
    "omegabo = v_c/(CRo*ro)# Pattern speed based on CR #orbital freq = v_c/R : we need to figure out v_c at CR\n",
    "# print ('This is omegabo in physical units', omegabo*(vo/ro),'km/s/kpc')\n",
    "print ('This is omegabo in natural units', omegabo)\n",
    "\n",
    "alpha = 0.015 # bar strength. Most accurate is from Bovy 2015\n",
    "Ab = (1/3)*alpha*(1/rbo)**3 # Bar strength (defaults to Ab=1)\n",
    "pa = 0. # The position angle of the x axis (radians)\n",
    "\n",
    "##############################################\n",
    "\n",
    "# Initialize to start bar formation at t=0 (tform) \n",
    "# Completely formed after one bar periods (tsteady)\n",
    "# Let bar evolve for 10 rotations after growth stops\n",
    "Nrot = 10 # Tbar to evolve # Nrot=10 evolves bar for 10 rotations after growth stops\n",
    "Ngrow = 1 # Tbar to grow bar # Ngrow=1 bar completely formed after one bar periods\n",
    "Nequel = 0 # Tbar to equelibrate\n",
    "\n",
    "tform = 0 #-(Nequel+Ngrow)*2.*np.pi/omegabo means start time was four bar periods ago if Ngrow=2 \n",
    "\n",
    "tsteady = Ngrow*2*np.pi/omegabo # time from tform where bar is fully grown\n",
    "\n",
    "print ('This is tsteady from bar potential:',tsteady)\n",
    "\n",
    "##### Dehnen Bar Potential #####\n",
    "\n",
    "bp = DehnenBarPotential(amp=1., omegab=omegabo, rb=rbo, barphi=0, tform=tform, tsteady=Ngrow, Af=Ab,ro=ro,vo=vo)\n",
    "\n",
    "###############################################"
   ]
  }
 ],
 "metadata": {
  "kernelspec": {
   "display_name": "Python 3",
   "language": "python",
   "name": "python3"
  },
  "language_info": {
   "codemirror_mode": {
    "name": "ipython",
    "version": 3
   },
   "file_extension": ".py",
   "mimetype": "text/x-python",
   "name": "python",
   "nbconvert_exporter": "python",
   "pygments_lexer": "ipython3",
   "version": "3.8.2"
  }
 },
 "nbformat": 4,
 "nbformat_minor": 4
}
