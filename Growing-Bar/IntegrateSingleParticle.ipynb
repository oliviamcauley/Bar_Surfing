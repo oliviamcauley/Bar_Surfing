{
 "cells": [
  {
   "cell_type": "code",
   "execution_count": null,
   "metadata": {},
   "outputs": [],
   "source": [
    "pts = pp.tdyn(R=b_param)\n",
    "\n",
    "ts = np.arange(0, 200, pts/10)\n",
    "print ('This is shape of ts:',np.shape(ts))\n",
    "\n",
    "iteration = 0\n",
    "nbeg = 0\n",
    "\n",
    "##### Defines origin of where pp will be. We are letting it be defined by \n",
    "##### gravity response as the orbits evolve in the system\n",
    "\n",
    "dt00 = datetime.now()\n",
    "print('\\033[1;34mStart time is: ',dt00)\n",
    "\n",
    "Oinplane.integrate(ts,mwp+bp) \n",
    "\n",
    "Osimname = 'Oinplane_MB'\n",
    "# Osimname = 'Oinplane_M'\n",
    "simname = Osimname\n",
    "\n",
    "# Save orbits\n",
    "dt00 = datetime.now()\n",
    "print('\\n')\n",
    "print('   Saving orbits using cylindrical coordinates')\n",
    "outnamerp = './orbits/PhD/'+str(Osimname)+'/Oinplane_'+str(np.round(v_circ*vo,0))+'_'+str(nsample*nbatch)+'N_ppDF_'+dpType+'p_'+AAType+'_orbits_cyl_'+str(iteration)+'.npy'\n",
    "#Picking out [...] number of locations in the timestep that we want to read out: e.g. if ... has 4 inputs for time steps, you'll get a shape with 4 for time step output - [nbeg,int(ntitr/4),TNround,-1] will give the [beginning, 1/4, middle, and end] timesteps\n",
    "orp = np.array([Oinplane.R(ts[:]),Oinplane.phi(ts[:],quantity=True),Oinplane.z(ts[:]),Oinplane.vR(ts[:]),Oinplane.vT(ts[:]),Oinplane.vz(ts[:])]) \n",
    "np.save(outnamerp,orp)\n",
    "print('   Shape of final orbits array is '+str(np.shape(orp)))\n",
    "print('   There are '+str(np.shape(orp[:,0])[0])+' coordinates [R,phi,z,vR,vphi,vz]')\n",
    "print('   There is 1 orbit')\n",
    "print('   There are '+str(np.shape(orp[0,:])[0])+' timestep outputs for each')\n",
    "print('\\n')\n",
    "print('   Saving orbits using cartesian coordinates')\n",
    "outnamexy = './orbits/PhD/'+str(Osimname)+'/Oinplane_'+str(np.round(v_circ*vo,0))+'_'+str(nsample*nbatch)+'N_ppDF_'+dpType+'p_'+AAType+'_orbits_cart_'+str(iteration)+'.npy'\n",
    "oxy = np.array([Oinplane.x(ts[:]),Oinplane.y(ts[:]),Oinplane.z(ts[:]),Oinplane.vx(ts[:]),Oinplane.vy(ts[:]),Oinplane.vz(ts[:])])\n",
    "np.save(outnamexy,oxy)\n",
    "print('   Shape of final orbits array is '+str(np.shape(oxy)))\n",
    "print('   There are '+str(np.shape(oxy[:,0])[0])+' coordinates [x,y,z,vx,vy,vz]')\n",
    "print('   There is 1 orbits')\n",
    "print('   There are '+str(np.shape(oxy[0,:])[0])+' timestep outputs for each')\n",
    "dt0 = datetime.now()\n",
    "print('\\n')\n",
    "\n",
    "print('   TOTAL total time lapsed = ', datetime.now()-dt00)"
   ]
  }
 ],
 "metadata": {
  "kernelspec": {
   "display_name": "Python 3",
   "language": "python",
   "name": "python3"
  },
  "language_info": {
   "codemirror_mode": {
    "name": "ipython",
    "version": 3
   },
   "file_extension": ".py",
   "mimetype": "text/x-python",
   "name": "python",
   "nbconvert_exporter": "python",
   "pygments_lexer": "ipython3",
   "version": "3.8.2"
  }
 },
 "nbformat": 4,
 "nbformat_minor": 4
}
