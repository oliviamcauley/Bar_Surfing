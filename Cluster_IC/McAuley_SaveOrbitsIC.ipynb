{
 "cells": [
  {
   "cell_type": "code",
   "execution_count": null,
   "metadata": {},
   "outputs": [],
   "source": [
    "dt00 = datetime.now()\n",
    "print('\\n')\n",
    "print('   Saving orbits using cylindrical coordinates')\n",
    "outnamerp = './ICs/PhD/'+str(simname)+'/'+str(nsample*nbatch)+'N_ppDF_'+dpType+'p_'+AAType+'_orbits_cyl_'+str(iteration)+'.npy'\n",
    "orp = np.array([sam.R(ts[:]),sam.phi(ts[:],quantity=True),sam.z(ts[:]),sam.vR(ts[:]),sam.vT(ts[:]),sam.vz(ts[:])]) \n",
    "np.save(outnamerp,orp)\n",
    "print('   Shape of final orbits array is '+str(np.shape(orp)))\n",
    "print('   There are '+str(np.shape(orp[:,0,0])[0])+' coordinates [R,phi,z,vR,vphi,vz]')\n",
    "print('   There are '+str(np.shape(orp[0,:,0])[0])+' orbits')\n",
    "print('   There are '+str(np.shape(orp[0,0,:])[0])+' timestep outputs for each')\n",
    "print('   Time lapsed to save orbits = ', datetime.now()-dt00)\n",
    "print('\\n')\n",
    "print('   Saving orbits using cartesian coordinates')\n",
    "outnamexy = './ICs/PhD/'+str(simname)+'/'+str(nsample*nbatch)+'N_ppDF_'+dpType+'p_'+AAType+'_orbits_cart_'+str(iteration)+'.npy'\n",
    "oxy = np.array([sam.x(ts[:]),sam.y(ts[:]),sam.z(ts[:]),sam.vx(ts[:]),sam.vy(ts[:]),sam.vz(ts[:]),sam.R(ts[:])])\n",
    "np.save(outnamexy,oxy)\n",
    "print('   Shape of final orbits array is '+str(np.shape(oxy)))\n",
    "print('   There are '+str(np.shape(oxy[:,0,0])[0])+' coordinates [x,y,z,vx,vy,vz,R]')\n",
    "print('   There are '+str(np.shape(oxy[0,:,0])[0])+' orbits')\n",
    "print('   There are '+str(np.shape(oxy[0,0,:])[0])+' timestep outputs for each')\n",
    "print('   Time lapsed to save orbits = ', datetime.now()-dt00)\n",
    "dt0 = datetime.now()\n",
    "print('\\n')\n",
    "\n",
    "print('   Total time lapsed = ', datetime.now()-dt0)\n",
    "\n",
    "print('   TOTAL total time lapsed = ', datetime.now()-dt00)"
   ]
  }
 ],
 "metadata": {
  "kernelspec": {
   "display_name": "Python 3",
   "language": "python",
   "name": "python3"
  },
  "language_info": {
   "codemirror_mode": {
    "name": "ipython",
    "version": 3
   },
   "file_extension": ".py",
   "mimetype": "text/x-python",
   "name": "python",
   "nbconvert_exporter": "python",
   "pygments_lexer": "ipython3",
   "version": "3.8.2"
  }
 },
 "nbformat": 4,
 "nbformat_minor": 4
}
