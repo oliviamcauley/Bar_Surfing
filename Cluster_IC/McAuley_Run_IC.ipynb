{
 "cells": [
  {
   "cell_type": "markdown",
   "metadata": {},
   "source": [
    "# Author: Olivia McAuley\n",
    "## November 30, 2023\n"
   ]
  },
  {
   "cell_type": "code",
   "execution_count": 1,
   "metadata": {},
   "outputs": [
    {
     "name": "stdout",
     "output_type": "stream",
     "text": [
      "\u001b[91mA new version of galpy (1.10.0) is available, please upgrade using pip/conda/... to get the latest features and bug fixes!\u001b[0m\n",
      "   Double check that your file path is what you want before you run McAuley_IntegrateIC and McAuley_SaveOrbitsIC\n"
     ]
    }
   ],
   "source": [
    "%run ./McAuley_Imports.ipynb\n",
    "%run ./McAuley_ScaleFactors.ipynb\n",
    "%run ./McAuley_PlummerPotential.ipynb"
   ]
  },
  {
   "cell_type": "code",
   "execution_count": 2,
   "metadata": {},
   "outputs": [
    {
     "name": "stderr",
     "output_type": "stream",
     "text": [
      "                                        "
     ]
    },
    {
     "name": "stdout",
     "output_type": "stream",
     "text": [
      "\u001b[1;34mStart time is:  2024-07-29 23:42:24.190984\n",
      "\u001b[1;34mEnd time is:  0:00:00.111163\n"
     ]
    },
    {
     "name": "stderr",
     "output_type": "stream",
     "text": [
      "\r"
     ]
    }
   ],
   "source": [
    "%run ./McAuley_IntegrateIC.ipynb\n",
    "%run ./McAuley_SaveOrbitsIC.ipynb"
   ]
  },
  {
   "cell_type": "markdown",
   "metadata": {},
   "source": [
    "# Plot the cluster in the xy-plane"
   ]
  },
  {
   "cell_type": "code",
   "execution_count": 3,
   "metadata": {},
   "outputs": [
    {
     "name": "stdout",
     "output_type": "stream",
     "text": [
      "/Users/oliviamcauley/miniconda3/envs/physics/lib/python3.8/site-packages/galpy/util/conversion.py:832: UserWarning: Returning output(s) in internal units even though use_physical=True, because ro and/or vo not set\n",
      "  warnings.warn(\"Returning output(s) in internal units even though use_physical=True, because ro and/or vo not set\")\n",
      "\n"
     ]
    },
    {
     "data": {
      "text/plain": [
       "Text(0, 0.5, 'Y (kpc)')"
      ]
     },
     "execution_count": 3,
     "metadata": {},
     "output_type": "execute_result"
    },
    {
     "data": {
      "image/png": "[encoded data removed]",
      "text/plain": [
       "<Figure size 432x288 with 1 Axes>"
      ]
     },
     "metadata": {
      "needs_background": "light"
     },
     "output_type": "display_data"
    }
   ],
   "source": [
    "plt.scatter(sam.x(ts[-1])*ro,sam.y(ts[-1])*ro)\n",
    "plt.xlabel('X (kpc)')\n",
    "plt.ylabel('Y (kpc)')\n"
   ]
  }
 ],
 "metadata": {
  "kernelspec": {
   "display_name": "Python 3",
   "language": "python",
   "name": "python3"
  },
  "language_info": {
   "codemirror_mode": {
    "name": "ipython",
    "version": 3
   },
   "file_extension": ".py",
   "mimetype": "text/x-python",
   "name": "python",
   "nbconvert_exporter": "python",
   "pygments_lexer": "ipython3",
   "version": "3.8.2"
  }
 },
 "nbformat": 4,
 "nbformat_minor": 4
}
