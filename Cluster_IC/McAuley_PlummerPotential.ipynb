{
 "cells": [
  {
   "cell_type": "markdown",
   "metadata": {},
   "source": [
    "# Set up Plummer potential in physical units to get the correct scaling because this will set up our IC to be inputted into all of the simulations"
   ]
  },
  {
   "cell_type": "code",
   "execution_count": null,
   "metadata": {},
   "outputs": [],
   "source": [
    "'''\n",
    "1.07 is in pc and we have to get it in natural units.\n",
    "To do this conversion, convert pc to kpc, then divide by ro\n",
    "'''\n",
    "b_param = 1.07*((10**-3)/ro) # \n",
    "##### Set the amplitude of the cluster potential #####\n",
    "amp = 10**-7 \n",
    "########################################################\n",
    "\n",
    "##### Set up the cluster potential which is made from the Plummer Potential and the Plummer DF #####\n",
    "pp = PlummerPotential(amp = amp, b = b_param, ro=ro, vo=vo)\n",
    "########################################################"
   ]
  },
  {
   "cell_type": "markdown",
   "metadata": {},
   "source": [
    "# Set up Plummer distribution function which will yield our sample of stars that make up the cluster\n",
    "## Note: All of the simulations will be run in natural units so turn off physical units"
   ]
  },
  {
   "cell_type": "code",
   "execution_count": null,
   "metadata": {},
   "outputs": [],
   "source": [
    "pdf = isotropicPlummerdf(pot=pp, ro=ro, vo=vo)\n",
    "\n",
    "##### Set up the particles in the sample #####\n",
    "sam = pdf.sample(n=nbatch*nsample, return_orbit=True) # self-consistent pp\n",
    "###########################################################\n",
    "\n",
    "sam.turn_physical_off()"
   ]
  },
  {
   "cell_type": "code",
   "execution_count": null,
   "metadata": {},
   "outputs": [],
   "source": [
    "print('   Double check that your file path is what you want before you run McAuley_IntegrateIC and McAuley_SaveOrbitsIC')"
   ]
  },
  {
   "cell_type": "code",
   "execution_count": null,
   "metadata": {},
   "outputs": [],
   "source": []
  }
 ],
 "metadata": {
  "kernelspec": {
   "display_name": "Python 3",
   "language": "python",
   "name": "python3"
  },
  "language_info": {
   "codemirror_mode": {
    "name": "ipython",
    "version": 3
   },
   "file_extension": ".py",
   "mimetype": "text/x-python",
   "name": "python",
   "nbconvert_exporter": "python",
   "pygments_lexer": "ipython3",
   "version": "3.8.2"
  }
 },
 "nbformat": 4,
 "nbformat_minor": 4
}
