{
 "cells": [
  {
   "cell_type": "markdown",
   "metadata": {},
   "source": [
    "# Integrate Orbits\n",
    "## Stop the IC simulation at the time when the bar would finish growing"
   ]
  },
  {
   "cell_type": "code",
   "execution_count": null,
   "metadata": {},
   "outputs": [],
   "source": [
    "''' \n",
    "This is the initial conditions simulation that will be in putted into the \n",
    "M, MP, MB, MBP, MS, and MSP simulations\n",
    "\n",
    "b_param is the Plummer scale length\n",
    "'''\n",
    "\n",
    "simname = 'P'\n",
    "\n",
    "dt0 = datetime.now()\n",
    "\n",
    "print('\\033[1;34mStart time is: ',dt0)\n",
    "\n",
    "##### Stop the IC at the time when the bar would finish growing #####\n",
    "\n",
    "pts = pp.tdyn(R=b_param)\n",
    "\n",
    "ts = np.arange(0, 20*pts, pts/10)\n",
    "\n",
    "#######################################\n",
    "\n",
    "pot = [pp]\n",
    "\n",
    "nbeg = 0\n",
    "iteration = 0\n",
    "\n",
    "sam.integrate(ts,pot=pot,method='symplec4_c') \n",
    "\n",
    "print('\\033[1;34mEnd time is: ',datetime.now() - dt0)"
   ]
  }
 ],
 "metadata": {
  "kernelspec": {
   "display_name": "Python 3",
   "language": "python",
   "name": "python3"
  },
  "language_info": {
   "codemirror_mode": {
    "name": "ipython",
    "version": 3
   },
   "file_extension": ".py",
   "mimetype": "text/x-python",
   "name": "python",
   "nbconvert_exporter": "python",
   "pygments_lexer": "ipython3",
   "version": "3.8.2"
  }
 },
 "nbformat": 4,
 "nbformat_minor": 4
}
